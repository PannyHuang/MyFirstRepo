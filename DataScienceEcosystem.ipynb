{
 "cells": [
  {
   "cell_type": "markdown",
   "metadata": {},
   "source": [
    "<center>\n",
    "    <img src=\"https://cf-courses-data.s3.us.cloud-object-storage.appdomain.cloud/IBMDeveloperSkillsNetwork-DS0105EN-SkillsNetwork/labs/Module2/images/SN_web_lightmode.png\" width=\"300\" alt=\"cognitiveclass.ai logo\">\n",
    "</center>\n"
   ]
  },
  {
   "cell_type": "markdown",
   "metadata": {},
   "source": [
    "#### Add your code below following the instructions given in the course\n"
   ]
  },
  {
   "cell_type": "markdown",
   "metadata": {},
   "source": [
    "# Data Science Tools and Ecosystem"
   ]
  },
  {
   "cell_type": "markdown",
   "metadata": {},
   "source": [
    "In this notebook, Data Science Tools and Ecosystem are summarized."
   ]
  },
  {
   "cell_type": "markdown",
   "metadata": {},
   "source": [
    "**Objectives**\n",
    "\n",
    "- Some of the popular languages that Data Scientists use.\n",
    "- Some of the commonly used libraries used by Data Scientists include.\n",
    "- a few examples of evaluating arithmetic expressions in Python"
   ]
  },
  {
   "cell_type": "markdown",
   "metadata": {},
   "source": [
    "### Some of the popular languages that Data Scientists use are:\n",
    "1. Python\n",
    "2. R\n",
    "3. Scale"
   ]
  },
  {
   "cell_type": "markdown",
   "metadata": {},
   "source": [
    "### Some of the commonly used libraries used by Data Scientists include:\n",
    "\n",
    "You're right! Data Scientists use a wide range of libraries depending on the specific task. Here's a breakdown of some of the most commonly used libraries, categorized by their primary functions:\n",
    "\n",
    "**Data Manipulation & Analysis:**\n",
    "\n",
    "* **`pandas` (Python):**  The cornerstone of data manipulation and analysis in Python. It provides data structures like DataFrames and Series, along with powerful tools for data cleaning, transformation, and analysis.\n",
    "* **`dplyr` (R):** Similar to `pandas`, `dplyr` offers a grammar of data manipulation for R. It simplifies data wrangling tasks with intuitive functions like `filter()`, `mutate()`, and `select()`.\n",
    "* **`numpy` (Python):** The foundation for numerical computation in Python. It provides powerful arrays and matrices, along with functions for linear algebra, random number generation, and more.\n",
    "* **`scipy` (Python):**  Builds upon `numpy` to provide advanced scientific computing capabilities, including optimization, integration, interpolation, signal processing, and more.\n",
    "* **`data.table` (R):** A fast and efficient data manipulation library in R, particularly useful for working with large datasets.\n",
    "\n",
    "**Visualization:**\n",
    "\n",
    "* **`matplotlib` (Python):**  A foundational plotting library in Python, offering a wide range of static, interactive, and animated visualizations.\n",
    "* **`seaborn` (Python):**  Built on top of `matplotlib`, Seaborn provides high-level functions for creating visually appealing statistical graphics.\n",
    "* **`ggplot2` (R):**  A powerful and versatile plotting library in R, known for its grammar of graphics that allows for highly customizable visualizations.\n",
    "* **`plotly` (Python & R):**  Creates interactive and web-based visualizations that can be easily shared and embedded.\n",
    "\n",
    "**Machine Learning:**\n",
    "\n",
    "* **`scikit-learn` (Python):**  A comprehensive library for machine learning in Python. It offers a wide range of algorithms for classification, regression, clustering, dimensionality reduction, and more.\n",
    "* **`tensorflow` (Python):**  A powerful deep learning library, commonly used for building and training neural networks.\n",
    "* **`keras` (Python):**  A high-level API for building and training neural networks, often used on top of `tensorflow`.\n",
    "* **`pytorch` (Python):**  Another popular deep learning library, known for its flexibility and ease of use.\n",
    "* **`caret` (R):** A comprehensive package for machine learning in R, offering a unified interface to various algorithms, cross-validation, and model tuning.\n",
    "* **`mlr3` (R):** A modern machine learning library in R, designed for flexibility and extensibility.\n",
    "\n",
    "**Other Essential Libraries:**\n",
    "\n",
    "* **`requests` (Python):** For making HTTP requests to web APIs, fetching data from the internet.\n",
    "* **`BeautifulSoup` (Python):** For parsing HTML and XML data, extracting information from web pages.\n",
    "* **`json` (Python):** For working with JSON data, a common format for exchanging data.\n",
    "* **`os` (Python):** For interacting with the operating system, managing files and directories.\n",
    "* **`string` (Python):** For manipulating strings, performing text processing tasks.\n"
   ]
  },
  {
   "cell_type": "markdown",
   "metadata": {},
   "source": [
    "| Data Science Tools      | Lincence      |\n",
    "| ------------- | ------------- |\n",
    "| Anaconda | BSD 3-Clause |\n",
    "| Jypyter Notebook | BSD 3-Clause |\n",
    "| RStudio | GPL-3.0 |"
   ]
  },
  {
   "cell_type": "markdown",
   "metadata": {},
   "source": [
    "### Below are a few examples of evaluating arithmetic expressions in Python\n",
    "\n",
    "```python\n",
    "# 1. Basic Arithmetic Operations\n",
    "\n",
    "# Addition\n",
    "result = 5 + 3\n",
    "print(result)  # Output: 8\n",
    "\n",
    "# Subtraction\n",
    "result = 10 - 4\n",
    "print(result)  # Output: 6\n",
    "\n",
    "# Multiplication\n",
    "result = 7 * 2\n",
    "print(result)  # Output: 14\n",
    "\n",
    "# Division\n",
    "result = 15 / 3\n",
    "print(result)  # Output: 5.0\n",
    "\n",
    "# Floor Division (rounds down to the nearest integer)\n",
    "result = 17 // 3\n",
    "print(result)  # Output: 5\n",
    "\n",
    "# Modulus (returns the remainder of a division)\n",
    "result = 17 % 3\n",
    "print(result)  # Output: 2\n",
    "\n",
    "# Exponentiation\n",
    "result = 2 ** 4\n",
    "print(result)  # Output: 16\n",
    "\n",
    "\n",
    "# 2. Order of Operations (PEMDAS/BODMAS)\n",
    "\n",
    "# Parentheses/Brackets first\n",
    "result = (5 + 2) * 3 \n",
    "print(result)  # Output: 21\n",
    "\n",
    "# Exponents/Orders next\n",
    "result = 2 ** 3 + 5\n",
    "print(result)  # Output: 13\n",
    "\n",
    "# Multiplication and Division (from left to right)\n",
    "result = 10 / 2 * 3\n",
    "print(result)  # Output: 15\n",
    "\n",
    "# Addition and Subtraction (from left to right)\n",
    "result = 10 - 5 + 2\n",
    "print(result)  # Output: 7\n",
    "\n",
    "\n",
    "# 3. Using the `eval()` Function\n",
    "\n",
    "expression = \"2 * (3 + 4) - 1\"\n",
    "result = eval(expression)\n",
    "print(result)  # Output: 13\n",
    "\n",
    "# Caution: `eval()` can be risky if you're using it with untrusted input, as it can execute arbitrary code.\n",
    "```\n",
    "\n",
    "**Explanation:**\n",
    "\n",
    "* **Basic Operations:**  These examples demonstrate the fundamental arithmetic operations (+, -, *, /, //, %, **) in Python.\n",
    "* **Order of Operations:**  The code illustrates the order of operations (PEMDAS/BODMAS) used to evaluate expressions.\n",
    "* **`eval()` function:**  The `eval()` function takes a string containing a Python expression and evaluates it. Be cautious when using `eval()` with untrusted input.\n"
   ]
  },
  {
   "cell_type": "code",
   "execution_count": 2,
   "metadata": {},
   "outputs": [
    {
     "data": {
      "text/plain": [
       "17"
      ]
     },
     "execution_count": 2,
     "metadata": {},
     "output_type": "execute_result"
    }
   ],
   "source": [
    "# This a simple arithmetic expression to mutiply then add integers\n",
    "(3*4)+5"
   ]
  },
  {
   "cell_type": "code",
   "execution_count": 3,
   "metadata": {},
   "outputs": [
    {
     "name": "stdout",
     "output_type": "stream",
     "text": [
      "3.3333333333333335\n"
     ]
    }
   ],
   "source": [
    "# This will convert 200 minutes to hours by diving by 60\n",
    "minutes = 200\n",
    "hours = minutes / 60\n",
    "print(hours)  # Output: 3.3333333333333335"
   ]
  },
  {
   "cell_type": "markdown",
   "metadata": {},
   "source": [
    "## Author\n",
    "\n",
    "Panny Huang\n"
   ]
  },
  {
   "cell_type": "code",
   "execution_count": null,
   "metadata": {},
   "outputs": [],
   "source": []
  }
 ],
 "metadata": {
  "kernelspec": {
   "display_name": "Python 3 (ipykernel)",
   "language": "python",
   "name": "python3"
  },
  "language_info": {
   "codemirror_mode": {
    "name": "ipython",
    "version": 3
   },
   "file_extension": ".py",
   "mimetype": "text/x-python",
   "name": "python",
   "nbconvert_exporter": "python",
   "pygments_lexer": "ipython3",
   "version": "3.11.9"
  }
 },
 "nbformat": 4,
 "nbformat_minor": 4
}
